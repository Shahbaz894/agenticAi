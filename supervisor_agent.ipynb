{
  "nbformat": 4,
  "nbformat_minor": 0,
  "metadata": {
    "colab": {
      "provenance": [],
      "authorship_tag": "ABX9TyNhLVDULTJ97N6Brlr8Y/Qc",
      "include_colab_link": true
    },
    "kernelspec": {
      "name": "python3",
      "display_name": "Python 3"
    },
    "language_info": {
      "name": "python"
    }
  },
  "cells": [
    {
      "cell_type": "markdown",
      "metadata": {
        "id": "view-in-github",
        "colab_type": "text"
      },
      "source": [
        "<a href=\"https://colab.research.google.com/github/Shahbaz894/agenticAi/blob/main/supervisor_agent.ipynb\" target=\"_parent\"><img src=\"https://colab.research.google.com/assets/colab-badge.svg\" alt=\"Open In Colab\"/></a>"
      ]
    },
    {
      "cell_type": "code",
      "execution_count": 146,
      "metadata": {
        "id": "9BTUUbRVfm9F"
      },
      "outputs": [],
      "source": [
        "\n",
        "from typing import Annotated\n",
        "from typing import Literal\n",
        "from langchain_community.tools.tavily_search import TavilySearchResults\n",
        "from langchain_core.tools import tool\n",
        "from langchain_experimental.utilities import PythonREPL\n",
        "from typing_extensions import TypedDict\n",
        "from langgraph.graph import MessagesState, END,StateGraph, START\n",
        "from langgraph.types import Command\n",
        "from langchain_core.messages import HumanMessage\n",
        "from langgraph.prebuilt import create_react_agent"
      ]
    },
    {
      "cell_type": "code",
      "source": [
        "# !pip install langgraph"
      ],
      "metadata": {
        "id": "K8_HBhrigYrF"
      },
      "execution_count": 147,
      "outputs": []
    },
    {
      "cell_type": "code",
      "source": [
        "# !pip install langchain-experimental\n"
      ],
      "metadata": {
        "id": "h8E9csicgQox"
      },
      "execution_count": 148,
      "outputs": []
    },
    {
      "cell_type": "code",
      "source": [
        "# !pip install langchain-community\n"
      ],
      "metadata": {
        "id": "F4Q9HO0ff_3k"
      },
      "execution_count": 149,
      "outputs": []
    },
    {
      "cell_type": "code",
      "source": [
        "# !pip install langchain_groq"
      ],
      "metadata": {
        "id": "3WK5d9NwhC6z"
      },
      "execution_count": 150,
      "outputs": []
    },
    {
      "cell_type": "code",
      "source": [
        "# !!pip install -U langchain-community langchain-experimental tavily-python\n"
      ],
      "metadata": {
        "id": "hu_Z3zdyn7CZ"
      },
      "execution_count": 151,
      "outputs": []
    },
    {
      "cell_type": "code",
      "source": [
        "from dotenv import load_dotenv"
      ],
      "metadata": {
        "id": "CisrIDgGgAuO"
      },
      "execution_count": 152,
      "outputs": []
    },
    {
      "cell_type": "code",
      "source": [
        "load_dotenv"
      ],
      "metadata": {
        "colab": {
          "base_uri": "https://localhost:8080/",
          "height": 203
        },
        "id": "jPp756N8gmCD",
        "outputId": "af96874e-8afe-4e72-d8aa-000193a33ea8"
      },
      "execution_count": 153,
      "outputs": [
        {
          "output_type": "execute_result",
          "data": {
            "text/plain": [
              "<function dotenv.main.load_dotenv(dotenv_path: Union[str, ForwardRef('os.PathLike[str]'), NoneType] = None, stream: Optional[IO[str]] = None, verbose: bool = False, override: bool = False, interpolate: bool = True, encoding: Optional[str] = 'utf-8') -> bool>"
            ],
            "text/html": [
              "<div style=\"max-width:800px; border: 1px solid var(--colab-border-color);\"><style>\n",
              "      pre.function-repr-contents {\n",
              "        overflow-x: auto;\n",
              "        padding: 8px 12px;\n",
              "        max-height: 500px;\n",
              "      }\n",
              "\n",
              "      pre.function-repr-contents.function-repr-contents-collapsed {\n",
              "        cursor: pointer;\n",
              "        max-height: 100px;\n",
              "      }\n",
              "    </style>\n",
              "    <pre style=\"white-space: initial; background:\n",
              "         var(--colab-secondary-surface-color); padding: 8px 12px;\n",
              "         border-bottom: 1px solid var(--colab-border-color);\"><b>dotenv.main.load_dotenv</b><br/>def load_dotenv(dotenv_path: Optional[StrPath]=None, stream: Optional[IO[str]]=None, verbose: bool=False, override: bool=False, interpolate: bool=True, encoding: Optional[str]=&#x27;utf-8&#x27;) -&gt; bool</pre><pre class=\"function-repr-contents function-repr-contents-collapsed\" style=\"\"><a class=\"filepath\" style=\"display:none\" href=\"#\">/usr/local/lib/python3.11/dist-packages/dotenv/main.py</a>Parse a .env file and then load all the variables found as environment variables.\n",
              "\n",
              "Parameters:\n",
              "    dotenv_path: Absolute or relative path to .env file.\n",
              "    stream: Text stream (such as `io.StringIO`) with .env content, used if\n",
              "        `dotenv_path` is `None`.\n",
              "    verbose: Whether to output a warning the .env file is missing.\n",
              "    override: Whether to override the system environment variables with the variables\n",
              "        from the `.env` file.\n",
              "    encoding: Encoding to be used to read the file.\n",
              "Returns:\n",
              "    Bool: True if at least one environment variable is set else False\n",
              "\n",
              "If both `dotenv_path` and `stream` are `None`, `find_dotenv()` is used to find the\n",
              ".env file with it&#x27;s default parameters. If you need to change the default parameters\n",
              "of `find_dotenv()`, you can explicitly call `find_dotenv()` and pass the result\n",
              "to this function as `dotenv_path`.</pre>\n",
              "      <script>\n",
              "      if (google.colab.kernel.accessAllowed && google.colab.files && google.colab.files.view) {\n",
              "        for (const element of document.querySelectorAll('.filepath')) {\n",
              "          element.style.display = 'block'\n",
              "          element.onclick = (event) => {\n",
              "            event.preventDefault();\n",
              "            event.stopPropagation();\n",
              "            google.colab.files.view(element.textContent, 325);\n",
              "          };\n",
              "        }\n",
              "      }\n",
              "      for (const element of document.querySelectorAll('.function-repr-contents')) {\n",
              "        element.onclick = (event) => {\n",
              "          event.preventDefault();\n",
              "          event.stopPropagation();\n",
              "          element.classList.toggle('function-repr-contents-collapsed');\n",
              "        };\n",
              "      }\n",
              "      </script>\n",
              "      </div>"
            ]
          },
          "metadata": {},
          "execution_count": 153
        }
      ]
    },
    {
      "cell_type": "code",
      "source": [
        "from google.colab import userdata\n",
        "api_key=userdata.get('GROQ_API_KEY')"
      ],
      "metadata": {
        "id": "OuLWNBF5h0IF"
      },
      "execution_count": 154,
      "outputs": []
    },
    {
      "cell_type": "code",
      "source": [
        "\n",
        "from google.colab import userdata\n",
        "tavily_api_key=userdata.get('TAVILY_API_KEY')"
      ],
      "metadata": {
        "id": "t6kdmrOWlUI0"
      },
      "execution_count": 155,
      "outputs": []
    },
    {
      "cell_type": "code",
      "source": [
        "from langchain_groq import ChatGroq"
      ],
      "metadata": {
        "id": "kCpqeCDWgpS8"
      },
      "execution_count": 157,
      "outputs": []
    },
    {
      "cell_type": "code",
      "source": [
        "groq_model=ChatGroq(model=\"deepseek-r1-distill-llama-70b\",api_key=api_key)"
      ],
      "metadata": {
        "id": "qxrNopkkhLm3"
      },
      "execution_count": 158,
      "outputs": []
    },
    {
      "cell_type": "code",
      "source": [
        "response=groq_model.invoke('hi')"
      ],
      "metadata": {
        "id": "JiFLjoAmkQ8T"
      },
      "execution_count": 159,
      "outputs": []
    },
    {
      "cell_type": "code",
      "source": [
        "def clean_text(text):\n",
        "  import re\n",
        "  clean_text=re.sub(r\"<think>.*?</think>\\s*\", \"\", text, flags=re.DOTALL)\n",
        "  return clean_text"
      ],
      "metadata": {
        "id": "J8PyJF7nkUXc"
      },
      "execution_count": 160,
      "outputs": []
    },
    {
      "cell_type": "code",
      "source": [
        "clean_text(response.content)"
      ],
      "metadata": {
        "colab": {
          "base_uri": "https://localhost:8080/",
          "height": 36
        },
        "id": "jwHUstMakpE_",
        "outputId": "b6229eaf-08e2-4b40-988f-2d57f50ec83d"
      },
      "execution_count": 161,
      "outputs": [
        {
          "output_type": "execute_result",
          "data": {
            "text/plain": [
              "'Hello! How can I assist you today? 😊'"
            ],
            "application/vnd.google.colaboratory.intrinsic+json": {
              "type": "string"
            }
          },
          "metadata": {},
          "execution_count": 161
        }
      ]
    },
    {
      "cell_type": "code",
      "source": [
        "tavily_tool=TavilySearchResults(tavily_api_key=tavily_api_key)"
      ],
      "metadata": {
        "id": "6q4y5Qd2kwx2"
      },
      "execution_count": 162,
      "outputs": []
    },
    {
      "cell_type": "code",
      "source": [
        "res=tavily_tool.invoke('what is the gdp of pakistan')"
      ],
      "metadata": {
        "id": "w-U1tOotljr2"
      },
      "execution_count": 163,
      "outputs": []
    },
    {
      "cell_type": "code",
      "source": [
        "res[-1]"
      ],
      "metadata": {
        "colab": {
          "base_uri": "https://localhost:8080/"
        },
        "id": "Uu5sSEb0rxBq",
        "outputId": "e994aa1c-8df6-4f72-bd53-ef43a48ca0bf"
      },
      "execution_count": 164,
      "outputs": [
        {
          "output_type": "execute_result",
          "data": {
            "text/plain": [
              "{'title': 'Gross domestic product (GDP) 2024 - Pakistan - Statista',\n",
              " 'url': 'https://www.statista.com/statistics/383739/gross-domestic-product-gdp-in-pakistan/',\n",
              " 'content': 'In total, the GDP amounted to 374.6 billion U.S. dollars in 2024. The gross domestic product at current prices is defined based upon the GDP in national',\n",
              " 'score': 0.8399576}"
            ]
          },
          "metadata": {},
          "execution_count": 164
        }
      ]
    },
    {
      "cell_type": "code",
      "source": [
        "code=\"\"\"\n",
        "x=12\n",
        "y=x^2\n",
        "print(y)\n",
        "\"\"\""
      ],
      "metadata": {
        "id": "M6P4CKHlr3sU"
      },
      "execution_count": 165,
      "outputs": []
    },
    {
      "cell_type": "code",
      "source": [
        "repl=PythonREPL()"
      ],
      "metadata": {
        "id": "dlzaff5IsYAI"
      },
      "execution_count": 166,
      "outputs": []
    },
    {
      "cell_type": "code",
      "source": [
        "result=repl.run(code)"
      ],
      "metadata": {
        "id": "FdGlVT27sbL_"
      },
      "execution_count": 167,
      "outputs": []
    },
    {
      "cell_type": "code",
      "source": [
        "result"
      ],
      "metadata": {
        "colab": {
          "base_uri": "https://localhost:8080/",
          "height": 36
        },
        "id": "g4adVBkxsfz5",
        "outputId": "6dd04246-0401-4f56-ebff-150d014541cd"
      },
      "execution_count": 168,
      "outputs": [
        {
          "output_type": "execute_result",
          "data": {
            "text/plain": [
              "'14\\n'"
            ],
            "application/vnd.google.colaboratory.intrinsic+json": {
              "type": "string"
            }
          },
          "metadata": {},
          "execution_count": 168
        }
      ]
    },
    {
      "cell_type": "code",
      "source": [
        "@tool\n",
        "def python_repl_tool(\n",
        "    code:Annotated[str,\"The python code to execute to generate your chart\"],\n",
        "\n",
        "):\n",
        "  \"\"\" Use this to execute python code and do math.if you want to see the output of a value,\n",
        "  you should print it with out prunt(...). this is visible to the user\"\"\"\n",
        "  try:\n",
        "    results=repl.run(code)\n",
        "  except BaseException as e:\n",
        "    return f\"Failed to execute Error:{repr(e)}\"\n",
        "  result_str = f\"Successfully executed:\\n\\`\\`\\`python\\n{code}\\n\\`\\`\\`\\nStdout: {result}\"\n",
        "  return result_str"
      ],
      "metadata": {
        "id": "BIMvhgH9sj0A"
      },
      "execution_count": 169,
      "outputs": []
    },
    {
      "cell_type": "code",
      "source": [
        "print(python_repl_tool.invoke(code))"
      ],
      "metadata": {
        "colab": {
          "base_uri": "https://localhost:8080/"
        },
        "id": "sirCD7cR1SS-",
        "outputId": "2326602a-b759-428c-8d56-a5c3ac32fa90"
      },
      "execution_count": 170,
      "outputs": [
        {
          "output_type": "stream",
          "name": "stdout",
          "text": [
            "Successfully executed:\n",
            "\\`\\`\\`python\n",
            "\n",
            "x=12\n",
            "y=x^2\n",
            "print(y)\n",
            "\n",
            "\\`\\`\\`\n",
            "Stdout: 14\n",
            "\n"
          ]
        }
      ]
    },
    {
      "cell_type": "code",
      "source": [
        "\n",
        "members=[\"researcher\",\"coder\"]"
      ],
      "metadata": {
        "id": "litVJ_me1SPV"
      },
      "execution_count": 171,
      "outputs": []
    },
    {
      "cell_type": "code",
      "source": [
        "options=members+['FINISH']"
      ],
      "metadata": {
        "id": "dXhKFllm1SMr"
      },
      "execution_count": 172,
      "outputs": []
    },
    {
      "cell_type": "code",
      "source": [
        "options"
      ],
      "metadata": {
        "colab": {
          "base_uri": "https://localhost:8080/"
        },
        "id": "juczKcvD1rvx",
        "outputId": "b2d6068a-ed5b-45af-a78b-64a73808b2a7"
      },
      "execution_count": 173,
      "outputs": [
        {
          "output_type": "execute_result",
          "data": {
            "text/plain": [
              "['researcher', 'coder', 'FINISH']"
            ]
          },
          "metadata": {},
          "execution_count": 173
        }
      ]
    },
    {
      "cell_type": "code",
      "source": [
        "class Router(TypedDict):\n",
        "  \"\"\"Worker to route to next.if no workers needed,route to FINISH\n",
        "  \"\"\"\n",
        "  next:Literal['researcher', 'coder', 'FINISH']"
      ],
      "metadata": {
        "id": "M3WhMY1b1s-e"
      },
      "execution_count": 174,
      "outputs": []
    },
    {
      "cell_type": "code",
      "source": [
        "class State(MessagesState):\n",
        "  next:str"
      ],
      "metadata": {
        "id": "uPkUOSmx2G2Y"
      },
      "execution_count": 175,
      "outputs": []
    },
    {
      "cell_type": "code",
      "source": [
        "system_prompt=f\"\"\"\n",
        "Yor are a supervisoer ,tasked with managing a converstaion between the following workers:{members}.\n",
        "Given the following user request,respond with worker to act next.\n",
        "Each worker will perform a task and respond with thier results and status.\n",
        "When finished ,repond with FINISH.\n",
        "\"\"\""
      ],
      "metadata": {
        "id": "meMp455J2Xap"
      },
      "execution_count": 176,
      "outputs": []
    },
    {
      "cell_type": "code",
      "source": [
        "[{'role':'system','content':system_prompt}]"
      ],
      "metadata": {
        "colab": {
          "base_uri": "https://localhost:8080/"
        },
        "id": "gn2h_lJb3IdG",
        "outputId": "5873c2a8-cf26-4f38-9a7a-7583b6c54557"
      },
      "execution_count": 177,
      "outputs": [
        {
          "output_type": "execute_result",
          "data": {
            "text/plain": [
              "[{'role': 'system',\n",
              "  'content': \"\\nYor are a supervisoer ,tasked with managing a converstaion between the following workers:['researcher', 'coder'].\\nGiven the following user request,respond with worker to act next.\\nEach worker will perform a task and respond with thier results and status.\\nWhen finished ,repond with FINISH.\\n\"}]"
            ]
          },
          "metadata": {},
          "execution_count": 177
        }
      ]
    },
    {
      "cell_type": "code",
      "source": [
        "state={'next':['hi']}"
      ],
      "metadata": {
        "id": "Zybq6oly3T-Y"
      },
      "execution_count": 178,
      "outputs": []
    },
    {
      "cell_type": "code",
      "source": [
        "state['next']"
      ],
      "metadata": {
        "colab": {
          "base_uri": "https://localhost:8080/"
        },
        "id": "yvcaV3i53dC9",
        "outputId": "8014e501-5f8f-4810-f6a3-035249c289e7"
      },
      "execution_count": 179,
      "outputs": [
        {
          "output_type": "execute_result",
          "data": {
            "text/plain": [
              "['hi']"
            ]
          },
          "metadata": {},
          "execution_count": 179
        }
      ]
    },
    {
      "cell_type": "code",
      "source": [
        "[{'role':'system','content':system_prompt}]+ state['next']"
      ],
      "metadata": {
        "colab": {
          "base_uri": "https://localhost:8080/"
        },
        "id": "TOTFxNTP3g0Q",
        "outputId": "add1dfd2-510d-4aed-f629-a7c1756080b2"
      },
      "execution_count": 180,
      "outputs": [
        {
          "output_type": "execute_result",
          "data": {
            "text/plain": [
              "[{'role': 'system',\n",
              "  'content': \"\\nYor are a supervisoer ,tasked with managing a converstaion between the following workers:['researcher', 'coder'].\\nGiven the following user request,respond with worker to act next.\\nEach worker will perform a task and respond with thier results and status.\\nWhen finished ,repond with FINISH.\\n\"},\n",
              " 'hi']"
            ]
          },
          "metadata": {},
          "execution_count": 180
        }
      ]
    },
    {
      "cell_type": "code",
      "source": [
        "\n",
        "def supervisor_node(state: State) -> Command[Literal[\"researcher\", \"coder\", \"__end__\"]]:\n",
        "\n",
        "    messages = [{\"role\": \"system\", \"content\": system_prompt},] + state[\"messages\"]\n",
        "\n",
        "    response = groq_model.with_structured_output(Router).invoke(messages)\n",
        "\n",
        "    goto = response[\"next\"]\n",
        "\n",
        "    print(\"below my goto**********************************\")\n",
        "\n",
        "    print(goto)\n",
        "\n",
        "    if goto == \"FINISH\":\n",
        "        goto = END\n",
        "\n",
        "    return Command(goto=goto, update={\"next\": goto})\n",
        "\n"
      ],
      "metadata": {
        "id": "zZ6EJqDG3ntA"
      },
      "execution_count": 181,
      "outputs": []
    },
    {
      "cell_type": "code",
      "source": [
        "\n",
        "def research_node(state: State) -> Command[Literal[\"supervisor\"]]:\n",
        "\n",
        "    research_agent = create_react_agent(groq_model, tools=[tavily_tool], prompt=\"You are a researcher. DO NOT do any math.\")\n",
        "\n",
        "    result = research_agent.invoke(state)\n",
        "\n",
        "    return Command(\n",
        "        update={\n",
        "            \"messages\": [\n",
        "                HumanMessage(content=result[\"messages\"][-1].content, name=\"researcher\")\n",
        "            ]\n",
        "        },\n",
        "        goto=\"supervisor\",\n",
        "    )"
      ],
      "metadata": {
        "id": "DfXgEOcv334n"
      },
      "execution_count": 182,
      "outputs": []
    },
    {
      "cell_type": "code",
      "source": [
        "def code_node(state:State)->Command[Literal['supervisor']]:\n",
        "  code_agent=create_react_agent(groq_model,tools=[python_repl_tool])\n",
        "  result=code_agent.invoke(state)\n",
        "  return Command(\n",
        "      update={\n",
        "          'messages':[HumanMessage(\n",
        "              content=result['messages'][-1].content,name=['coder']\n",
        "          )]\n",
        "      },\n",
        "      goto='supervisor'\n",
        "  )"
      ],
      "metadata": {
        "id": "JY2GApQU331k"
      },
      "execution_count": 183,
      "outputs": []
    },
    {
      "cell_type": "code",
      "source": [
        "graph=StateGraph(State)"
      ],
      "metadata": {
        "id": "S_f1bhPj33yr"
      },
      "execution_count": 184,
      "outputs": []
    },
    {
      "cell_type": "code",
      "source": [
        "graph.add_node('supervisor',supervisor_node)"
      ],
      "metadata": {
        "colab": {
          "base_uri": "https://localhost:8080/"
        },
        "id": "T0z8ZhFr33vs",
        "outputId": "128b0bd5-e4b8-4cc6-e385-7fe84aa4f10c"
      },
      "execution_count": 185,
      "outputs": [
        {
          "output_type": "execute_result",
          "data": {
            "text/plain": [
              "<langgraph.graph.state.StateGraph at 0x7aa8960f5010>"
            ]
          },
          "metadata": {},
          "execution_count": 185
        }
      ]
    },
    {
      "cell_type": "code",
      "source": [
        "graph.add_node('researcher',research_node)"
      ],
      "metadata": {
        "colab": {
          "base_uri": "https://localhost:8080/"
        },
        "id": "QAB0hjYE8tVL",
        "outputId": "5ab6f500-e7fa-4b31-d2f4-959fdbe716ce"
      },
      "execution_count": 186,
      "outputs": [
        {
          "output_type": "execute_result",
          "data": {
            "text/plain": [
              "<langgraph.graph.state.StateGraph at 0x7aa8960f5010>"
            ]
          },
          "metadata": {},
          "execution_count": 186
        }
      ]
    },
    {
      "cell_type": "code",
      "source": [
        "graph.add_node('coder',code_node)"
      ],
      "metadata": {
        "colab": {
          "base_uri": "https://localhost:8080/"
        },
        "id": "Pdvh4IFf8z95",
        "outputId": "f3f78066-9344-43aa-d369-02c710ef2fc2"
      },
      "execution_count": 187,
      "outputs": [
        {
          "output_type": "execute_result",
          "data": {
            "text/plain": [
              "<langgraph.graph.state.StateGraph at 0x7aa8960f5010>"
            ]
          },
          "metadata": {},
          "execution_count": 187
        }
      ]
    },
    {
      "cell_type": "code",
      "source": [
        "graph.add_edge(START,'supervisor')"
      ],
      "metadata": {
        "colab": {
          "base_uri": "https://localhost:8080/"
        },
        "id": "LDd69ZOC886B",
        "outputId": "171dfa36-4a42-491c-a728-95365e5fa12a"
      },
      "execution_count": 188,
      "outputs": [
        {
          "output_type": "execute_result",
          "data": {
            "text/plain": [
              "<langgraph.graph.state.StateGraph at 0x7aa8960f5010>"
            ]
          },
          "metadata": {},
          "execution_count": 188
        }
      ]
    },
    {
      "cell_type": "code",
      "source": [
        "app=graph.compile()"
      ],
      "metadata": {
        "id": "U6ALup4s9FEI"
      },
      "execution_count": 189,
      "outputs": []
    },
    {
      "cell_type": "code",
      "source": [
        "\n",
        "from IPython.display import display, Image\n",
        "\n",
        "display(Image(app.get_graph().draw_mermaid_png()))"
      ],
      "metadata": {
        "colab": {
          "base_uri": "https://localhost:8080/",
          "height": 266
        },
        "id": "FOuwLF_J9IER",
        "outputId": "ed746a21-e18b-49ee-e773-2244743e6772"
      },
      "execution_count": 190,
      "outputs": [
        {
          "output_type": "display_data",
          "data": {
            "image/png": "[encoded data removed]",
            "text/plain": [
              "<IPython.core.display.Image object>"
            ]
          },
          "metadata": {}
        }
      ]
    },
    {
      "cell_type": "code",
      "source": [
        "app.invoke({\"messages\": [(\"user\", \"What's the square root of 42?\")]}, subgraphs=True)"
      ],
      "metadata": {
        "colab": {
          "base_uri": "https://localhost:8080/"
        },
        "id": "2x8DXGgH9RUQ",
        "outputId": "96ffa191-352b-4ccd-e8e6-8cbc8c067044"
      },
      "execution_count": 191,
      "outputs": [
        {
          "output_type": "stream",
          "name": "stdout",
          "text": [
            "below my goto**********************************\n",
            "researcher\n",
            "below my goto**********************************\n",
            "researcher\n",
            "below my goto**********************************\n",
            "researcher\n",
            "below my goto**********************************\n",
            "researcher\n",
            "below my goto**********************************\n",
            "researcher\n",
            "below my goto**********************************\n",
            "FINISH\n"
          ]
        },
        {
          "output_type": "execute_result",
          "data": {
            "text/plain": [
              "((),\n",
              " {'messages': [HumanMessage(content=\"What's the square root of 42?\", additional_kwargs={}, response_metadata={}, id='d0cbb1c9-e9e0-4216-aa2a-23dd5fa49cd7'),\n",
              "   HumanMessage(content='The square root of 42 is approximately 6.4807. \\n\\nStep-by-Step Explanation:\\n\\n1. Recognize that the square root of 42 lies between 6 and 7 since 6² = 36 and 7² = 49.\\n\\n2. Estimate by testing 6.5: 6.5² = 42.25, which is slightly above 42.\\n\\n3. Refine the estimate by testing 6.4: 6.4² = 40.96, which is slightly below 42.\\n\\n4. Further refine by testing 6.45: 6.45² ≈ 41.6025, still below 42.\\n\\n5. Test 6.48: 6.48² ≈ 41.9904, very close to 42.\\n\\n6. Conclude that the exact square root is irrational and approximate it as 6.4807.', additional_kwargs={}, response_metadata={}, name='researcher', id='37debf57-d73b-4f99-a3df-0d7916d18421'),\n",
              "   HumanMessage(content='The square root of 42 is approximately 6.4807.', additional_kwargs={}, response_metadata={}, name='researcher', id='a13f2958-ca29-4a36-830c-99c7a01d9830'),\n",
              "   HumanMessage(content='', additional_kwargs={}, response_metadata={}, name='researcher', id='e14d03e9-c1df-40b5-84ae-38a719eada46'),\n",
              "   HumanMessage(content='The square root of 42 is approximately 6.48. This is an estimate, as 42 is not a perfect square, and its square root is an irrational number.', additional_kwargs={}, response_metadata={}, name='researcher', id='8e326d51-d2c8-4af8-8caa-ef25fc47b699'),\n",
              "   HumanMessage(content='The square root of 42 is approximately 6.4807. This value is an irrational number, meaning it cannot be expressed exactly as a finite decimal or fraction. For practical purposes, rounding to a few decimal places, such as 6.48 or 6.481, is sufficient.', additional_kwargs={}, response_metadata={}, name='researcher', id='94d0f2e4-cae5-427b-96e5-bc1f4bdb01ed')],\n",
              "  'next': '__end__'})"
            ]
          },
          "metadata": {},
          "execution_count": 191
        }
      ]
    }
  ]
}